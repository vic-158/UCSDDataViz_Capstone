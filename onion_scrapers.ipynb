{
 "cells": [
  {
   "cell_type": "code",
   "execution_count": 1,
   "metadata": {},
   "outputs": [],
   "source": [
    "from bs4 import BeautifulSoup\n",
    "import requests\n",
    "import pymongo\n",
    "import pandas as pd"
   ]
  },
  {
   "cell_type": "code",
   "execution_count": 2,
   "metadata": {},
   "outputs": [],
   "source": [
    "# URL of page to be scraped\n",
    "url = 'https://www.theonion.com/'\n",
    "\n",
    "# Retrieve page with the requests module\n",
    "response = requests.get(url)\n",
    "\n",
    "# Create BeautifulSoup object; parse with 'lxml'\n",
    "soup = BeautifulSoup(response.text, 'lxml')"
   ]
  },
  {
   "cell_type": "code",
   "execution_count": 3,
   "metadata": {},
   "outputs": [
    {
     "data": {
      "text/plain": [
       "['God Orders All Followers To Swallow Cyanide Capsules In Preparation For Voyage To Alpha Centauri',\n",
       " 'Supreme Court Rejects Adding Census Citizenship Question',\n",
       " 'Extremely Effective Therapist Just Lets Patients Beat Shit Out Of Him For 45 Minutes',\n",
       " 'Mueller To Testify Before Congress',\n",
       " 'Highlights Of The Democratic Primary Debate Day 2',\n",
       " 'CD Projekt Red Announces ‘Cyberpunk 2077’ Will Have A Gender-Neutral Character Creator, However Everyone Will Be Christian',\n",
       " 'Illinois Legalizes Marijuana',\n",
       " 'Experts Say Earliest Warning Signs Of Mental Health Issues Usually Crossing Eyes While Dribbling Finger On Lips, Saying ‘Cuckoo, Cuckoo’',\n",
       " 'Naked Andrew Yang Emerges From Time Vortex To Warn Debate Audience About Looming Threat Of Automation',\n",
       " 'Trump Picks Stephanie Grisham As New Press Secretary',\n",
       " 'Highlights Of The Democratic Primary Debate Day 1',\n",
       " 'Breaking New Ground: Beto O’Rourke Has Become The First Presidential Candidate Available As A ‘Smash Ultimate’ DLC Fighter',\n",
       " 'OSHA Special Ops Team Raids Local Office After Receiving Intel On Expired Fire Extinguisher',\n",
       " 'Historians Reveal Aqueducts Were Only Small Portion Of Ancient Rome’s Intricate Water Park System',\n",
       " 'Driver Kind Of Bummed To See Other Car He Been Driving Behind For A While Take Exit Off Highway',\n",
       " 'Pence Declines To Say Whether Climate Change A Threat',\n",
       " '13.5 Million Americans Tune In To Watch Animal Planet’s ‘Puppy Parley’ During DNC Debate Halftime Show',\n",
       " 'Presidential Debate Sidetracked By Booker, De Blasio Arguing About Best Place In Lower Manhattan To Get Tapas']"
      ]
     },
     "execution_count": 3,
     "metadata": {},
     "output_type": "execute_result"
    }
   ],
   "source": [
    "# Examine the results, then determine element that contains sought info\n",
    "# results are returned as an iterable list\n",
    "fp_results = soup.find_all('h1', class_=\"cw4lnv-6 bqxOdn sc-759qgu-0 jJoMDo\")\n",
    "fp_headers = [fp_results[item].text for item in range(len(fp_results))]\n",
    "fp_headers"
   ]
  },
  {
   "cell_type": "code",
   "execution_count": 4,
   "metadata": {},
   "outputs": [],
   "source": [
    "more_results = soup.find_all('h5')"
   ]
  },
  {
   "cell_type": "code",
   "execution_count": 5,
   "metadata": {},
   "outputs": [],
   "source": [
    "more_headers = [more_results[item].text for item in range(len(more_results)) if more_results[item].text.lower() !='more from the onion']"
   ]
  },
  {
   "cell_type": "code",
   "execution_count": 6,
   "metadata": {},
   "outputs": [
    {
     "name": "stdout",
     "output_type": "stream",
     "text": [
      "Naked Andrew Yang Emerges From Time Vortex To Warn Debate Audience About Looming Threat Of Automation\n",
      "Breaking New Ground: Beto O’Rourke Has Become The First Presidential Candidate Available As A ‘Smash Ultimate’ DLC Fig...\n",
      "OSHA Special Ops Team Raids Local Office After Receiving Intel On Expired Fire Extinguisher\n",
      "Historians Reveal Aqueducts Were Only Small Portion Of Ancient Rome’s Intricate Water Park System\n"
     ]
    }
   ],
   "source": [
    "for header in more_headers: \n",
    "    print(header)"
   ]
  },
  {
   "cell_type": "code",
   "execution_count": 7,
   "metadata": {},
   "outputs": [
    {
     "data": {
      "text/plain": [
       "['Naked Andrew Yang Emerges From Time Vortex To Warn Debate Audience About Looming Threat Of Automation',\n",
       " 'Breaking New Ground: Beto O’Rourke Has Become The First Presidential Candidate Available As A ‘Smash Ultimate’ DLC Fig...',\n",
       " 'OSHA Special Ops Team Raids Local Office After Receiving Intel On Expired Fire Extinguisher',\n",
       " 'Historians Reveal Aqueducts Were Only Small Portion Of Ancient Rome’s Intricate Water Park System']"
      ]
     },
     "execution_count": 7,
     "metadata": {},
     "output_type": "execute_result"
    }
   ],
   "source": [
    "more_headers"
   ]
  },
  {
   "cell_type": "code",
   "execution_count": 8,
   "metadata": {},
   "outputs": [],
   "source": [
    "onion_headers = fp_headers + more_headers"
   ]
  },
  {
   "cell_type": "code",
   "execution_count": 9,
   "metadata": {},
   "outputs": [
    {
     "name": "stdout",
     "output_type": "stream",
     "text": [
      "['God Orders All Followers To Swallow Cyanide Capsules In Preparation For Voyage To Alpha Centauri', 'Supreme Court Rejects Adding Census Citizenship Question', 'Extremely Effective Therapist Just Lets Patients Beat Shit Out Of Him For 45 Minutes', 'Mueller To Testify Before Congress', 'Highlights Of The Democratic Primary Debate Day 2', 'CD Projekt Red Announces ‘Cyberpunk 2077’ Will Have A Gender-Neutral Character Creator, However Everyone Will Be Christian', 'Illinois Legalizes Marijuana', 'Experts Say Earliest Warning Signs Of Mental Health Issues Usually Crossing Eyes While Dribbling Finger On Lips, Saying ‘Cuckoo, Cuckoo’', 'Naked Andrew Yang Emerges From Time Vortex To Warn Debate Audience About Looming Threat Of Automation', 'Trump Picks Stephanie Grisham As New Press Secretary', 'Highlights Of The Democratic Primary Debate Day 1', 'Breaking New Ground: Beto O’Rourke Has Become The First Presidential Candidate Available As A ‘Smash Ultimate’ DLC Fighter', 'OSHA Special Ops Team Raids Local Office After Receiving Intel On Expired Fire Extinguisher', 'Historians Reveal Aqueducts Were Only Small Portion Of Ancient Rome’s Intricate Water Park System', 'Driver Kind Of Bummed To See Other Car He Been Driving Behind For A While Take Exit Off Highway', 'Pence Declines To Say Whether Climate Change A Threat', '13.5 Million Americans Tune In To Watch Animal Planet’s ‘Puppy Parley’ During DNC Debate Halftime Show', 'Presidential Debate Sidetracked By Booker, De Blasio Arguing About Best Place In Lower Manhattan To Get Tapas', 'Naked Andrew Yang Emerges From Time Vortex To Warn Debate Audience About Looming Threat Of Automation', 'Breaking New Ground: Beto O’Rourke Has Become The First Presidential Candidate Available As A ‘Smash Ultimate’ DLC Fig...', 'OSHA Special Ops Team Raids Local Office After Receiving Intel On Expired Fire Extinguisher', 'Historians Reveal Aqueducts Were Only Small Portion Of Ancient Rome’s Intricate Water Park System']\n"
     ]
    }
   ],
   "source": [
    "print(onion_headers)"
   ]
  },
  {
   "cell_type": "code",
   "execution_count": 10,
   "metadata": {},
   "outputs": [],
   "source": [
    "#function to calculate number of character in str\n",
    "def count_chars(txt):\n",
    "    result = 0\n",
    "    for char in txt:\n",
    "        result += 1     \n",
    "    return result"
   ]
  },
  {
   "cell_type": "code",
   "execution_count": 11,
   "metadata": {},
   "outputs": [],
   "source": [
    "#function to determine word count\n",
    "def count_words(data):\n",
    "    words = data.split(\" \")\n",
    "    num_words = len(words)\n",
    "    return num_words"
   ]
  },
  {
   "cell_type": "code",
   "execution_count": 12,
   "metadata": {},
   "outputs": [
    {
     "data": {
      "text/plain": [
       "[2, 3, 2]"
      ]
     },
     "execution_count": 12,
     "metadata": {},
     "output_type": "execute_result"
    }
   ],
   "source": [
    "test = ['a b','a b c', 'd e']\n",
    "[count_words(i) for i in test]"
   ]
  },
  {
   "cell_type": "code",
   "execution_count": 13,
   "metadata": {},
   "outputs": [],
   "source": [
    "def ucase_test(s):\n",
    "    uc = 0\n",
    "\n",
    "    for c in s:\n",
    "        if c.isupper():\n",
    "            uc+=1\n",
    "       \n",
    "     \n",
    "#     print (\"Original String : \", s)\n",
    "#     print (\"No. of Upper case characters : \", uc)\n",
    "#     print (\"No. of Lower case Characters : \", lc)\n",
    "    \n",
    "    return uc"
   ]
  },
  {
   "cell_type": "code",
   "execution_count": 14,
   "metadata": {},
   "outputs": [],
   "source": [
    "def lcase_test(s):\n",
    "    lc = 0\n",
    "\n",
    "    for c in s:\n",
    "        if c.islower():\n",
    "            lc+=1\n",
    "       \n",
    "     \n",
    "#     print (\"Original String : \", s)\n",
    "#     print (\"No. of Upper case characters : \", uc)\n",
    "#     print (\"No. of Lower case Characters : \", lc)\n",
    "    \n",
    "    return lc"
   ]
  },
  {
   "cell_type": "code",
   "execution_count": 15,
   "metadata": {},
   "outputs": [],
   "source": [
    "# function checks if the string contains any special character \n",
    "def special(str1): \n",
    "    spaces = alphabets = digits = special = 0\n",
    "\n",
    "    for i in range(len(str1)):\n",
    "        if((str1[i] >= 'a' and str1[i] <= 'z') or (str1[i] >= 'A' and str1[i] <= 'Z')): \n",
    "            alphabets = alphabets + 1 \n",
    "        elif(str1[i] >= '0' and str1[i] <= '9'):\n",
    "            digits = digits + 1\n",
    "        elif (str1[i] == ' '):\n",
    "            spaces = spaces + 1\n",
    "        else:\n",
    "            special = special + 1\n",
    "    return special; "
   ]
  },
  {
   "cell_type": "code",
   "execution_count": 16,
   "metadata": {},
   "outputs": [],
   "source": [
    "char_count = [count_chars(header) for header in onion_headers]"
   ]
  },
  {
   "cell_type": "code",
   "execution_count": 17,
   "metadata": {},
   "outputs": [],
   "source": [
    "word_count = [count_words(header) for header in onion_headers]"
   ]
  },
  {
   "cell_type": "code",
   "execution_count": 18,
   "metadata": {},
   "outputs": [],
   "source": [
    "ucase_count = [ucase_test(header) for header in onion_headers]"
   ]
  },
  {
   "cell_type": "code",
   "execution_count": 24,
   "metadata": {},
   "outputs": [],
   "source": [
    "lcase_count = [lcase_test(header) for header in onion_headers]"
   ]
  },
  {
   "cell_type": "code",
   "execution_count": 25,
   "metadata": {},
   "outputs": [],
   "source": [
    "special_count = [special(header) for header in onion_headers]"
   ]
  },
  {
   "cell_type": "code",
   "execution_count": 30,
   "metadata": {},
   "outputs": [],
   "source": [
    "ratio = [(ucase_test(header)/lcase_test(header)) for header in onion_headers]"
   ]
  },
  {
   "cell_type": "code",
   "execution_count": 31,
   "metadata": {},
   "outputs": [],
   "source": [
    "dict = {'Headline': onion_headers, \n",
    "        'Character Count': char_count, \n",
    "        'Word Count': word_count, \n",
    "        'Upper Characters': ucase_count,\n",
    "        'Lower Case Characters': lcase_count,\n",
    "        'Upper to Lower Ratio' : (ratio),\n",
    "        'SpecialChar Count': special_count}   \n",
    "    \n",
    "df = pd.DataFrame(dict) "
   ]
  },
  {
   "cell_type": "code",
   "execution_count": 32,
   "metadata": {},
   "outputs": [
    {
     "data": {
      "text/html": [
       "<div>\n",
       "<style scoped>\n",
       "    .dataframe tbody tr th:only-of-type {\n",
       "        vertical-align: middle;\n",
       "    }\n",
       "\n",
       "    .dataframe tbody tr th {\n",
       "        vertical-align: top;\n",
       "    }\n",
       "\n",
       "    .dataframe thead th {\n",
       "        text-align: right;\n",
       "    }\n",
       "</style>\n",
       "<table border=\"1\" class=\"dataframe\">\n",
       "  <thead>\n",
       "    <tr style=\"text-align: right;\">\n",
       "      <th></th>\n",
       "      <th>Headline</th>\n",
       "      <th>Character Count</th>\n",
       "      <th>Word Count</th>\n",
       "      <th>Upper Characters</th>\n",
       "      <th>Lower Case Characters</th>\n",
       "      <th>Upper to Lower Ratio</th>\n",
       "      <th>SpecialChar Count</th>\n",
       "    </tr>\n",
       "  </thead>\n",
       "  <tbody>\n",
       "    <tr>\n",
       "      <th>0</th>\n",
       "      <td>God Orders All Followers To Swallow Cyanide Ca...</td>\n",
       "      <td>96</td>\n",
       "      <td>15</td>\n",
       "      <td>15</td>\n",
       "      <td>67</td>\n",
       "      <td>0.223881</td>\n",
       "      <td>0</td>\n",
       "    </tr>\n",
       "    <tr>\n",
       "      <th>1</th>\n",
       "      <td>Supreme Court Rejects Adding Census Citizenshi...</td>\n",
       "      <td>56</td>\n",
       "      <td>7</td>\n",
       "      <td>7</td>\n",
       "      <td>43</td>\n",
       "      <td>0.162791</td>\n",
       "      <td>0</td>\n",
       "    </tr>\n",
       "    <tr>\n",
       "      <th>2</th>\n",
       "      <td>Extremely Effective Therapist Just Lets Patien...</td>\n",
       "      <td>84</td>\n",
       "      <td>14</td>\n",
       "      <td>13</td>\n",
       "      <td>56</td>\n",
       "      <td>0.232143</td>\n",
       "      <td>0</td>\n",
       "    </tr>\n",
       "    <tr>\n",
       "      <th>3</th>\n",
       "      <td>Mueller To Testify Before Congress</td>\n",
       "      <td>34</td>\n",
       "      <td>5</td>\n",
       "      <td>5</td>\n",
       "      <td>25</td>\n",
       "      <td>0.200000</td>\n",
       "      <td>0</td>\n",
       "    </tr>\n",
       "    <tr>\n",
       "      <th>4</th>\n",
       "      <td>Highlights Of The Democratic Primary Debate Day 2</td>\n",
       "      <td>49</td>\n",
       "      <td>8</td>\n",
       "      <td>7</td>\n",
       "      <td>34</td>\n",
       "      <td>0.205882</td>\n",
       "      <td>0</td>\n",
       "    </tr>\n",
       "    <tr>\n",
       "      <th>5</th>\n",
       "      <td>CD Projekt Red Announces ‘Cyberpunk 2077’ Will...</td>\n",
       "      <td>122</td>\n",
       "      <td>17</td>\n",
       "      <td>18</td>\n",
       "      <td>80</td>\n",
       "      <td>0.225000</td>\n",
       "      <td>4</td>\n",
       "    </tr>\n",
       "    <tr>\n",
       "      <th>6</th>\n",
       "      <td>Illinois Legalizes Marijuana</td>\n",
       "      <td>28</td>\n",
       "      <td>3</td>\n",
       "      <td>3</td>\n",
       "      <td>23</td>\n",
       "      <td>0.130435</td>\n",
       "      <td>0</td>\n",
       "    </tr>\n",
       "    <tr>\n",
       "      <th>7</th>\n",
       "      <td>Experts Say Earliest Warning Signs Of Mental H...</td>\n",
       "      <td>136</td>\n",
       "      <td>20</td>\n",
       "      <td>20</td>\n",
       "      <td>93</td>\n",
       "      <td>0.215054</td>\n",
       "      <td>4</td>\n",
       "    </tr>\n",
       "    <tr>\n",
       "      <th>8</th>\n",
       "      <td>Naked Andrew Yang Emerges From Time Vortex To ...</td>\n",
       "      <td>101</td>\n",
       "      <td>16</td>\n",
       "      <td>16</td>\n",
       "      <td>70</td>\n",
       "      <td>0.228571</td>\n",
       "      <td>0</td>\n",
       "    </tr>\n",
       "    <tr>\n",
       "      <th>9</th>\n",
       "      <td>Trump Picks Stephanie Grisham As New Press Sec...</td>\n",
       "      <td>52</td>\n",
       "      <td>8</td>\n",
       "      <td>8</td>\n",
       "      <td>37</td>\n",
       "      <td>0.216216</td>\n",
       "      <td>0</td>\n",
       "    </tr>\n",
       "    <tr>\n",
       "      <th>10</th>\n",
       "      <td>Highlights Of The Democratic Primary Debate Day 1</td>\n",
       "      <td>49</td>\n",
       "      <td>8</td>\n",
       "      <td>7</td>\n",
       "      <td>34</td>\n",
       "      <td>0.205882</td>\n",
       "      <td>0</td>\n",
       "    </tr>\n",
       "    <tr>\n",
       "      <th>11</th>\n",
       "      <td>Breaking New Ground: Beto O’Rourke Has Become ...</td>\n",
       "      <td>122</td>\n",
       "      <td>18</td>\n",
       "      <td>21</td>\n",
       "      <td>80</td>\n",
       "      <td>0.262500</td>\n",
       "      <td>4</td>\n",
       "    </tr>\n",
       "    <tr>\n",
       "      <th>12</th>\n",
       "      <td>OSHA Special Ops Team Raids Local Office After...</td>\n",
       "      <td>91</td>\n",
       "      <td>14</td>\n",
       "      <td>17</td>\n",
       "      <td>61</td>\n",
       "      <td>0.278689</td>\n",
       "      <td>0</td>\n",
       "    </tr>\n",
       "    <tr>\n",
       "      <th>13</th>\n",
       "      <td>Historians Reveal Aqueducts Were Only Small Po...</td>\n",
       "      <td>97</td>\n",
       "      <td>14</td>\n",
       "      <td>14</td>\n",
       "      <td>69</td>\n",
       "      <td>0.202899</td>\n",
       "      <td>1</td>\n",
       "    </tr>\n",
       "    <tr>\n",
       "      <th>14</th>\n",
       "      <td>Driver Kind Of Bummed To See Other Car He Been...</td>\n",
       "      <td>95</td>\n",
       "      <td>19</td>\n",
       "      <td>19</td>\n",
       "      <td>58</td>\n",
       "      <td>0.327586</td>\n",
       "      <td>0</td>\n",
       "    </tr>\n",
       "    <tr>\n",
       "      <th>15</th>\n",
       "      <td>Pence Declines To Say Whether Climate Change A...</td>\n",
       "      <td>53</td>\n",
       "      <td>9</td>\n",
       "      <td>9</td>\n",
       "      <td>36</td>\n",
       "      <td>0.250000</td>\n",
       "      <td>0</td>\n",
       "    </tr>\n",
       "    <tr>\n",
       "      <th>16</th>\n",
       "      <td>13.5 Million Americans Tune In To Watch Animal...</td>\n",
       "      <td>102</td>\n",
       "      <td>16</td>\n",
       "      <td>17</td>\n",
       "      <td>63</td>\n",
       "      <td>0.269841</td>\n",
       "      <td>4</td>\n",
       "    </tr>\n",
       "    <tr>\n",
       "      <th>17</th>\n",
       "      <td>Presidential Debate Sidetracked By Booker, De ...</td>\n",
       "      <td>109</td>\n",
       "      <td>17</td>\n",
       "      <td>17</td>\n",
       "      <td>75</td>\n",
       "      <td>0.226667</td>\n",
       "      <td>1</td>\n",
       "    </tr>\n",
       "    <tr>\n",
       "      <th>18</th>\n",
       "      <td>Naked Andrew Yang Emerges From Time Vortex To ...</td>\n",
       "      <td>101</td>\n",
       "      <td>16</td>\n",
       "      <td>16</td>\n",
       "      <td>70</td>\n",
       "      <td>0.228571</td>\n",
       "      <td>0</td>\n",
       "    </tr>\n",
       "    <tr>\n",
       "      <th>19</th>\n",
       "      <td>Breaking New Ground: Beto O’Rourke Has Become ...</td>\n",
       "      <td>121</td>\n",
       "      <td>18</td>\n",
       "      <td>21</td>\n",
       "      <td>76</td>\n",
       "      <td>0.276316</td>\n",
       "      <td>7</td>\n",
       "    </tr>\n",
       "    <tr>\n",
       "      <th>20</th>\n",
       "      <td>OSHA Special Ops Team Raids Local Office After...</td>\n",
       "      <td>91</td>\n",
       "      <td>14</td>\n",
       "      <td>17</td>\n",
       "      <td>61</td>\n",
       "      <td>0.278689</td>\n",
       "      <td>0</td>\n",
       "    </tr>\n",
       "    <tr>\n",
       "      <th>21</th>\n",
       "      <td>Historians Reveal Aqueducts Were Only Small Po...</td>\n",
       "      <td>97</td>\n",
       "      <td>14</td>\n",
       "      <td>14</td>\n",
       "      <td>69</td>\n",
       "      <td>0.202899</td>\n",
       "      <td>1</td>\n",
       "    </tr>\n",
       "  </tbody>\n",
       "</table>\n",
       "</div>"
      ],
      "text/plain": [
       "                                             Headline  Character Count  \\\n",
       "0   God Orders All Followers To Swallow Cyanide Ca...               96   \n",
       "1   Supreme Court Rejects Adding Census Citizenshi...               56   \n",
       "2   Extremely Effective Therapist Just Lets Patien...               84   \n",
       "3                  Mueller To Testify Before Congress               34   \n",
       "4   Highlights Of The Democratic Primary Debate Day 2               49   \n",
       "5   CD Projekt Red Announces ‘Cyberpunk 2077’ Will...              122   \n",
       "6                        Illinois Legalizes Marijuana               28   \n",
       "7   Experts Say Earliest Warning Signs Of Mental H...              136   \n",
       "8   Naked Andrew Yang Emerges From Time Vortex To ...              101   \n",
       "9   Trump Picks Stephanie Grisham As New Press Sec...               52   \n",
       "10  Highlights Of The Democratic Primary Debate Day 1               49   \n",
       "11  Breaking New Ground: Beto O’Rourke Has Become ...              122   \n",
       "12  OSHA Special Ops Team Raids Local Office After...               91   \n",
       "13  Historians Reveal Aqueducts Were Only Small Po...               97   \n",
       "14  Driver Kind Of Bummed To See Other Car He Been...               95   \n",
       "15  Pence Declines To Say Whether Climate Change A...               53   \n",
       "16  13.5 Million Americans Tune In To Watch Animal...              102   \n",
       "17  Presidential Debate Sidetracked By Booker, De ...              109   \n",
       "18  Naked Andrew Yang Emerges From Time Vortex To ...              101   \n",
       "19  Breaking New Ground: Beto O’Rourke Has Become ...              121   \n",
       "20  OSHA Special Ops Team Raids Local Office After...               91   \n",
       "21  Historians Reveal Aqueducts Were Only Small Po...               97   \n",
       "\n",
       "    Word Count  Upper Characters  Lower Case Characters  Upper to Lower Ratio  \\\n",
       "0           15                15                     67              0.223881   \n",
       "1            7                 7                     43              0.162791   \n",
       "2           14                13                     56              0.232143   \n",
       "3            5                 5                     25              0.200000   \n",
       "4            8                 7                     34              0.205882   \n",
       "5           17                18                     80              0.225000   \n",
       "6            3                 3                     23              0.130435   \n",
       "7           20                20                     93              0.215054   \n",
       "8           16                16                     70              0.228571   \n",
       "9            8                 8                     37              0.216216   \n",
       "10           8                 7                     34              0.205882   \n",
       "11          18                21                     80              0.262500   \n",
       "12          14                17                     61              0.278689   \n",
       "13          14                14                     69              0.202899   \n",
       "14          19                19                     58              0.327586   \n",
       "15           9                 9                     36              0.250000   \n",
       "16          16                17                     63              0.269841   \n",
       "17          17                17                     75              0.226667   \n",
       "18          16                16                     70              0.228571   \n",
       "19          18                21                     76              0.276316   \n",
       "20          14                17                     61              0.278689   \n",
       "21          14                14                     69              0.202899   \n",
       "\n",
       "    SpecialChar Count  \n",
       "0                   0  \n",
       "1                   0  \n",
       "2                   0  \n",
       "3                   0  \n",
       "4                   0  \n",
       "5                   4  \n",
       "6                   0  \n",
       "7                   4  \n",
       "8                   0  \n",
       "9                   0  \n",
       "10                  0  \n",
       "11                  4  \n",
       "12                  0  \n",
       "13                  1  \n",
       "14                  0  \n",
       "15                  0  \n",
       "16                  4  \n",
       "17                  1  \n",
       "18                  0  \n",
       "19                  7  \n",
       "20                  0  \n",
       "21                  1  "
      ]
     },
     "execution_count": 32,
     "metadata": {},
     "output_type": "execute_result"
    }
   ],
   "source": [
    "df"
   ]
  },
  {
   "cell_type": "code",
   "execution_count": 28,
   "metadata": {},
   "outputs": [],
   "source": [
    "df.to_csv('out.csv')"
   ]
  },
  {
   "cell_type": "code",
   "execution_count": null,
   "metadata": {},
   "outputs": [],
   "source": []
  },
  {
   "cell_type": "code",
   "execution_count": null,
   "metadata": {},
   "outputs": [],
   "source": []
  }
 ],
 "metadata": {
  "kernelspec": {
   "display_name": "Python 3",
   "language": "python",
   "name": "python3"
  },
  "language_info": {
   "codemirror_mode": {
    "name": "ipython",
    "version": 3
   },
   "file_extension": ".py",
   "mimetype": "text/x-python",
   "name": "python",
   "nbconvert_exporter": "python",
   "pygments_lexer": "ipython3",
   "version": "3.7.1"
  }
 },
 "nbformat": 4,
 "nbformat_minor": 2
}
