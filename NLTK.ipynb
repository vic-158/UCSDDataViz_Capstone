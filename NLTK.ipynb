{
 "cells": [
  {
   "cell_type": "code",
   "execution_count": 1,
   "metadata": {},
   "outputs": [],
   "source": [
    "import nltk"
   ]
  },
  {
   "cell_type": "code",
   "execution_count": 2,
   "metadata": {},
   "outputs": [],
   "source": [
    "from nltk.tokenize import sent_tokenize, word_tokenize"
   ]
  },
  {
   "cell_type": "code",
   "execution_count": 3,
   "metadata": {},
   "outputs": [],
   "source": [
    "from nltk.corpus import stopwords"
   ]
  },
  {
   "cell_type": "code",
   "execution_count": 4,
   "metadata": {},
   "outputs": [],
   "source": [
    "stopWords = set(stopwords.words('english'))"
   ]
  },
  {
   "cell_type": "code",
   "execution_count": 5,
   "metadata": {},
   "outputs": [
    {
     "name": "stdout",
     "output_type": "stream",
     "text": [
      "{'that', \"you'll\", 'in', 'why', 'myself', 'same', 'shan', 'against', 'we', 'now', \"needn't\", 'i', 'each', 'mustn', 'and', 'are', 'hadn', 'what', 'once', 'themselves', 'when', 'ain', 'here', 'or', 'hers', 'her', 'how', 'with', 'nor', \"shouldn't\", 'himself', 'll', 'after', 'a', 'were', 'ma', 'off', 'had', 'just', 'haven', 'm', 'about', 'into', \"that'll\", 'don', 'than', 'wouldn', \"aren't\", 'being', 'the', 'out', 'but', 'to', 'of', \"you're\", 'did', 'before', 'there', 'him', \"didn't\", 'been', 'doing', \"mightn't\", 'this', \"weren't\", 'any', 'those', 'which', 't', 'it', 'can', \"isn't\", 'needn', 'few', \"mustn't\", 'does', 'other', 'both', 'be', 'as', 'yourself', \"doesn't\", 'do', 'yourselves', 'theirs', 'own', 'didn', 'its', 'through', 'below', 'y', 'was', 'my', \"don't\", 'our', 'so', 'shouldn', 'further', 'not', 'then', 'isn', 'their', \"you've\", 'no', 'should', 's', 'wasn', 're', 'over', 'very', 'at', 'where', 'd', \"wasn't\", \"hasn't\", 'itself', 'weren', \"couldn't\", 'all', \"it's\", 'doesn', 'herself', 'o', 've', \"hadn't\", \"she's\", 'too', 'down', 'if', 'from', 'have', 'for', 'having', 'hasn', \"you'd\", 'during', 'by', \"should've\", 'most', 'them', 'whom', 'yours', 'between', 'me', 'your', 'these', 'aren', 'such', 'ours', \"won't\", 'ourselves', 'you', 'again', 'who', \"haven't\", 'they', 'she', 'an', 'more', 'he', 'am', 'under', \"shan't\", \"wouldn't\", 'will', 'only', 'is', 'won', 'mightn', 'until', 'has', 'his', 'on', 'couldn', 'because', 'while', 'up', 'some', 'above'}\n"
     ]
    }
   ],
   "source": [
    "print(stopWords)"
   ]
  },
  {
   "cell_type": "code",
   "execution_count": null,
   "metadata": {},
   "outputs": [],
   "source": []
  }
 ],
 "metadata": {
  "kernelspec": {
   "display_name": "Python 3",
   "language": "python",
   "name": "python3"
  },
  "language_info": {
   "codemirror_mode": {
    "name": "ipython",
    "version": 3
   },
   "file_extension": ".py",
   "mimetype": "text/x-python",
   "name": "python",
   "nbconvert_exporter": "python",
   "pygments_lexer": "ipython3",
   "version": "3.7.1"
  }
 },
 "nbformat": 4,
 "nbformat_minor": 2
}
