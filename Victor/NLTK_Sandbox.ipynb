{
 "cells": [
  {
   "cell_type": "code",
   "execution_count": 11,
   "metadata": {},
   "outputs": [],
   "source": [
    "import nltk\n",
    "import pandas as pd\n",
    "from nltk.tokenize import sent_tokenize, word_tokenize\n",
    "from nltk.corpus import stopwords\n",
    "from nltk.tokenize import PunktSentenceTokenizer"
   ]
  },
  {
   "cell_type": "code",
   "execution_count": 2,
   "metadata": {},
   "outputs": [],
   "source": [
    "data = pd.read_csv('../real_fake_combo.csv')"
   ]
  },
  {
   "cell_type": "code",
   "execution_count": 5,
   "metadata": {},
   "outputs": [
    {
     "data": {
      "text/html": [
       "<div>\n",
       "<style scoped>\n",
       "    .dataframe tbody tr th:only-of-type {\n",
       "        vertical-align: middle;\n",
       "    }\n",
       "\n",
       "    .dataframe tbody tr th {\n",
       "        vertical-align: top;\n",
       "    }\n",
       "\n",
       "    .dataframe thead th {\n",
       "        text-align: right;\n",
       "    }\n",
       "</style>\n",
       "<table border=\"1\" class=\"dataframe\">\n",
       "  <thead>\n",
       "    <tr style=\"text-align: right;\">\n",
       "      <th></th>\n",
       "      <th>Unnamed: 0</th>\n",
       "      <th>title</th>\n",
       "      <th>realfake</th>\n",
       "    </tr>\n",
       "  </thead>\n",
       "  <tbody>\n",
       "    <tr>\n",
       "      <th>0</th>\n",
       "      <td>0</td>\n",
       "      <td>#2816: Clinton Pride’s 8(a) Pig Farm Bridge – ...</td>\n",
       "      <td>fake</td>\n",
       "    </tr>\n",
       "    <tr>\n",
       "      <th>1</th>\n",
       "      <td>1</td>\n",
       "      <td>#2817: Serco's Zulu Starnet Blackmail – Clinto...</td>\n",
       "      <td>fake</td>\n",
       "    </tr>\n",
       "    <tr>\n",
       "      <th>2</th>\n",
       "      <td>2</td>\n",
       "      <td>Roger Stone update on Stop the Steal exit poll...</td>\n",
       "      <td>fake</td>\n",
       "    </tr>\n",
       "    <tr>\n",
       "      <th>3</th>\n",
       "      <td>3</td>\n",
       "      <td>#2818: Serco's Zulu Bridge To Mumbai Pig Farm ...</td>\n",
       "      <td>fake</td>\n",
       "    </tr>\n",
       "    <tr>\n",
       "      <th>4</th>\n",
       "      <td>4</td>\n",
       "      <td>Trump Advocates the American People's Control ...</td>\n",
       "      <td>fake</td>\n",
       "    </tr>\n",
       "  </tbody>\n",
       "</table>\n",
       "</div>"
      ],
      "text/plain": [
       "   Unnamed: 0                                              title realfake\n",
       "0           0  #2816: Clinton Pride’s 8(a) Pig Farm Bridge – ...     fake\n",
       "1           1  #2817: Serco's Zulu Starnet Blackmail – Clinto...     fake\n",
       "2           2  Roger Stone update on Stop the Steal exit poll...     fake\n",
       "3           3  #2818: Serco's Zulu Bridge To Mumbai Pig Farm ...     fake\n",
       "4           4  Trump Advocates the American People's Control ...     fake"
      ]
     },
     "execution_count": 5,
     "metadata": {},
     "output_type": "execute_result"
    }
   ],
   "source": [
    "data.head()"
   ]
  },
  {
   "cell_type": "code",
   "execution_count": 12,
   "metadata": {},
   "outputs": [],
   "source": [
    "#Import stopwords\n",
    "stopWords = set(stopwords.words('english'))\n",
    "data['title_tokenized'] = [word_tokenize(i) for i in data['title']]\n",
    "\n",
    "filtered = []\n",
    "for words in data['title_tokenized']:\n",
    "    temp = []\n",
    "    for w in words:\n",
    "        if w not in stopWords:\n",
    "            temp.append(w)\n",
    "    filtered.append(temp)\n",
    "\n",
    "data['title_no_stops'] = filtered"
   ]
  },
  {
   "cell_type": "code",
   "execution_count": 15,
   "metadata": {},
   "outputs": [
    {
     "data": {
      "text/html": [
       "<div>\n",
       "<style scoped>\n",
       "    .dataframe tbody tr th:only-of-type {\n",
       "        vertical-align: middle;\n",
       "    }\n",
       "\n",
       "    .dataframe tbody tr th {\n",
       "        vertical-align: top;\n",
       "    }\n",
       "\n",
       "    .dataframe thead th {\n",
       "        text-align: right;\n",
       "    }\n",
       "</style>\n",
       "<table border=\"1\" class=\"dataframe\">\n",
       "  <thead>\n",
       "    <tr style=\"text-align: right;\">\n",
       "      <th></th>\n",
       "      <th>Unnamed: 0</th>\n",
       "      <th>title</th>\n",
       "      <th>realfake</th>\n",
       "      <th>title_tokenized</th>\n",
       "      <th>title_no_stops</th>\n",
       "    </tr>\n",
       "  </thead>\n",
       "  <tbody>\n",
       "    <tr>\n",
       "      <th>0</th>\n",
       "      <td>0</td>\n",
       "      <td>#2816: Clinton Pride’s 8(a) Pig Farm Bridge – ...</td>\n",
       "      <td>fake</td>\n",
       "      <td>[#, 2816, :, Clinton, Pride, ’, s, 8, (, a, ),...</td>\n",
       "      <td>[#, 2816, :, Clinton, Pride, ’, 8, (, ), Pig, ...</td>\n",
       "    </tr>\n",
       "    <tr>\n",
       "      <th>1</th>\n",
       "      <td>1</td>\n",
       "      <td>#2817: Serco's Zulu Starnet Blackmail – Clinto...</td>\n",
       "      <td>fake</td>\n",
       "      <td>[#, 2817, :, Serco, 's, Zulu, Starnet, Blackma...</td>\n",
       "      <td>[#, 2817, :, Serco, 's, Zulu, Starnet, Blackma...</td>\n",
       "    </tr>\n",
       "    <tr>\n",
       "      <th>2</th>\n",
       "      <td>2</td>\n",
       "      <td>Roger Stone update on Stop the Steal exit poll...</td>\n",
       "      <td>fake</td>\n",
       "      <td>[Roger, Stone, update, on, Stop, the, Steal, e...</td>\n",
       "      <td>[Roger, Stone, update, Stop, Steal, exit, poll...</td>\n",
       "    </tr>\n",
       "    <tr>\n",
       "      <th>3</th>\n",
       "      <td>3</td>\n",
       "      <td>#2818: Serco's Zulu Bridge To Mumbai Pig Farm ...</td>\n",
       "      <td>fake</td>\n",
       "      <td>[#, 2818, :, Serco, 's, Zulu, Bridge, To, Mumb...</td>\n",
       "      <td>[#, 2818, :, Serco, 's, Zulu, Bridge, To, Mumb...</td>\n",
       "    </tr>\n",
       "    <tr>\n",
       "      <th>4</th>\n",
       "      <td>4</td>\n",
       "      <td>Trump Advocates the American People's Control ...</td>\n",
       "      <td>fake</td>\n",
       "      <td>[Trump, Advocates, the, American, People, 's, ...</td>\n",
       "      <td>[Trump, Advocates, American, People, 's, Contr...</td>\n",
       "    </tr>\n",
       "  </tbody>\n",
       "</table>\n",
       "</div>"
      ],
      "text/plain": [
       "   Unnamed: 0                                              title realfake  \\\n",
       "0           0  #2816: Clinton Pride’s 8(a) Pig Farm Bridge – ...     fake   \n",
       "1           1  #2817: Serco's Zulu Starnet Blackmail – Clinto...     fake   \n",
       "2           2  Roger Stone update on Stop the Steal exit poll...     fake   \n",
       "3           3  #2818: Serco's Zulu Bridge To Mumbai Pig Farm ...     fake   \n",
       "4           4  Trump Advocates the American People's Control ...     fake   \n",
       "\n",
       "                                     title_tokenized  \\\n",
       "0  [#, 2816, :, Clinton, Pride, ’, s, 8, (, a, ),...   \n",
       "1  [#, 2817, :, Serco, 's, Zulu, Starnet, Blackma...   \n",
       "2  [Roger, Stone, update, on, Stop, the, Steal, e...   \n",
       "3  [#, 2818, :, Serco, 's, Zulu, Bridge, To, Mumb...   \n",
       "4  [Trump, Advocates, the, American, People, 's, ...   \n",
       "\n",
       "                                      title_no_stops  \n",
       "0  [#, 2816, :, Clinton, Pride, ’, 8, (, ), Pig, ...  \n",
       "1  [#, 2817, :, Serco, 's, Zulu, Starnet, Blackma...  \n",
       "2  [Roger, Stone, update, Stop, Steal, exit, poll...  \n",
       "3  [#, 2818, :, Serco, 's, Zulu, Bridge, To, Mumb...  \n",
       "4  [Trump, Advocates, American, People, 's, Contr...  "
      ]
     },
     "execution_count": 15,
     "metadata": {},
     "output_type": "execute_result"
    }
   ],
   "source": [
    "data.head()"
   ]
  },
  {
   "cell_type": "code",
   "execution_count": 14,
   "metadata": {
    "scrolled": true
   },
   "outputs": [
    {
     "data": {
      "text/plain": [
       "[('#', '#'),\n",
       " ('2816', 'CD'),\n",
       " (':', ':'),\n",
       " ('Clinton', 'NNP'),\n",
       " ('Pride', 'NNP'),\n",
       " ('’', 'VBD'),\n",
       " ('8', 'CD'),\n",
       " ('(', '('),\n",
       " (')', ')'),\n",
       " ('Pig', 'NNP'),\n",
       " ('Farm', 'NNP'),\n",
       " ('Bridge', 'NNP'),\n",
       " ('–', 'NNP'),\n",
       " ('Serco', 'NNP'),\n",
       " ('Zulu', 'NNP'),\n",
       " ('Server', 'NNP'),\n",
       " ('Snuff', 'NNP'),\n",
       " ('–Soros', 'NNP'),\n",
       " (\"'s\", 'POS'),\n",
       " ('Patented', 'NNP'),\n",
       " ('Voter', 'NNP'),\n",
       " ('Key', 'NNP')]"
      ]
     },
     "execution_count": 14,
     "metadata": {},
     "output_type": "execute_result"
    }
   ],
   "source": [
    "nltk.pos_tag(data['title_no_stops'][0])"
   ]
  },
  {
   "cell_type": "code",
   "execution_count": null,
   "metadata": {},
   "outputs": [],
   "source": []
  }
 ],
 "metadata": {
  "kernelspec": {
   "display_name": "Python 3",
   "language": "python",
   "name": "python3"
  },
  "language_info": {
   "codemirror_mode": {
    "name": "ipython",
    "version": 3
   },
   "file_extension": ".py",
   "mimetype": "text/x-python",
   "name": "python",
   "nbconvert_exporter": "python",
   "pygments_lexer": "ipython3",
   "version": "3.7.1"
  }
 },
 "nbformat": 4,
 "nbformat_minor": 2
}
